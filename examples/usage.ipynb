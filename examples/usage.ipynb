{
 "cells": [
  {
   "cell_type": "code",
   "execution_count": 4,
   "metadata": {},
   "outputs": [
    {
     "name": "stderr",
     "output_type": "stream",
     "text": [
      "2022-06-12 12:02:12.481883: W tensorflow/core/kernels/data/experimental/ignore_errors_dataset_op.cc:117] Error raised with error message Unknown image file format. One of JPEG, PNG, GIF, BMP required.\n",
      "\t [[{{function_node __inference_load_image_52}}{{node DecodeJpeg}}]]\n",
      "2022-06-12 12:02:12.482000: W tensorflow/core/kernels/data/experimental/ignore_errors_dataset_op.cc:117] Error raised with error message Unknown image file format. One of JPEG, PNG, GIF, BMP required.\n",
      "\t [[{{function_node __inference_load_image_52}}{{node DecodeJpeg}}]]\n",
      "2022-06-12 12:02:12.482017: W tensorflow/core/kernels/data/experimental/ignore_errors_dataset_op.cc:117] Error raised with error message Unknown image file format. One of JPEG, PNG, GIF, BMP required.\n",
      "\t [[{{function_node __inference_load_image_52}}{{node DecodeJpeg}}]]\n",
      "2022-06-12 12:02:12.487878: W tensorflow/core/kernels/data/experimental/ignore_errors_dataset_op.cc:117] Error raised with error message Unknown image file format. One of JPEG, PNG, GIF, BMP required.\n",
      "\t [[{{function_node __inference_load_image_52}}{{node DecodeJpeg}}]]\n"
     ]
    }
   ],
   "source": [
    "import requests\n",
    "import os\n",
    "\n",
    "import tensorflow as tf\n",
    "import resnest\n",
    "\n",
    "SCORE_CAM_SOURCE = 'https://raw.githubusercontent.com/haofanwang/Score-CAM/master/images'\n",
    "KERAS_VIS_SOURCE = 'https://raw.githubusercontent.com/keisen/tf-keras-vis/master/examples/images'\n",
    "\n",
    "class config:\n",
    "    class data:\n",
    "        image_size = (512, 512)\n",
    "        path = './data'\n",
    "        images = os.path.join(path, 'misc')\n",
    "        sources = [\n",
    "            f'{SCORE_CAM_SOURCE}/ILSVRC2012_val_00000073.JPEG',\n",
    "            f'{SCORE_CAM_SOURCE}/ILSVRC2012_val_00000091.JPEG',\n",
    "            f'{SCORE_CAM_SOURCE}/ILSVRC2012_val_00000198.JPEG',\n",
    "            f'{SCORE_CAM_SOURCE}/ILSVRC2012_val_00000476.JPEG',\n",
    "            f'{SCORE_CAM_SOURCE}/ILSVRC2012_val_00002193.JPEG',\n",
    "\n",
    "            f'{KERAS_VIS_SOURCE}/goldfish.jpg',\n",
    "            f'{KERAS_VIS_SOURCE}/bear.jpg',\n",
    "            f'{KERAS_VIS_SOURCE}/soldiers.jpg',\n",
    "\n",
    "            'https://3.bp.blogspot.com/-W__wiaHUjwI/Vt3Grd8df0I/AAAAAAAAA78/7xqUNj8ujtY/s400/image02.png',\n",
    "            'http://www.aviationexplorer.com/Diecast_Airplanes_Aircraft/delta_Airbus_diecast_airplane.jpg',\n",
    "            'https://www.petcare.com.au/wp-content/uploads/2017/09/Dalmatian-2.jpg',\n",
    "            'http://sites.psu.edu/siowfa15/wp-content/uploads/sites/29639/2015/10/dogcat.jpg',\n",
    "            'https://consciouscat.net/wp-content/uploads/2009/08/multiple-cats-300x225.jpg',\n",
    "            'https://images2.minutemediacdn.com/image/upload/c_crop,h_843,w_1500,x_0,y_78/f_auto,q_auto,w_1100/v1554995977/shape/mentalfloss/iStock-157312120.jpg',\n",
    "            'http://www.reptilefact.com/wp-content/uploads/2016/08/Images-of-San-Francisco-Garter-Snake.jpg',\n",
    "        ]\n",
    "\n",
    "def load_images():\n",
    "    global ds, class_names, file_names\n",
    "\n",
    "    os.makedirs(config.data.images, exist_ok=True)\n",
    "\n",
    "    file_names = [os.path.join(config.data.images, os.path.basename(f)) for f in config.data.sources]\n",
    "    class_names = [os.path.splitext(os.path.basename(f))[0] for f in config.data.sources]\n",
    "    \n",
    "    for s, d in zip(config.data.sources, file_names):\n",
    "        if not os.path.exists(d):\n",
    "            download_image(s, d)\n",
    "        \n",
    "    ds = tf.data.Dataset.from_tensor_slices((file_names,))\n",
    "    ds = ds.map(load_image, num_parallel_calls=tf.data.AUTOTUNE).cache()\n",
    "    ds = ds.apply(tf.data.experimental.ignore_errors(log_warning=True))\n",
    "    ds = ds.batch(len(file_names))\n",
    "\n",
    "    return next(iter(ds))\n",
    "\n",
    "def download_image(url, path):\n",
    "    r = requests.get(url, allow_redirects=True)\n",
    "    with open(path, 'wb') as f:\n",
    "        f.write(r.content)\n",
    "    return path\n",
    "\n",
    "@tf.function\n",
    "def load_image(x):\n",
    "    x = tf.io.read_file(x)\n",
    "    x = tf.image.decode_jpeg(x, channels=3)\n",
    "    x = tf.image.resize(x, config.data.image_size)\n",
    "    return x\n",
    "\n",
    "@tf.function\n",
    "def augment_fn(image, y):\n",
    "    image = tf.image.random_brightness(image, .2)\n",
    "    image = tf.image.random_contrast(image, .75, 1.)\n",
    "    image = tf.image.random_flip_left_right(image)\n",
    "    image = tf.image.random_flip_up_down(image)\n",
    "\n",
    "    return image, y\n",
    "\n",
    "x = load_images()"
   ]
  },
  {
   "cell_type": "code",
   "execution_count": 5,
   "metadata": {},
   "outputs": [],
   "source": [
    "from keras.applications.imagenet_utils import preprocess_input\n",
    "\n",
    "x_ = preprocess_input(x, mode='torch')"
   ]
  },
  {
   "cell_type": "code",
   "execution_count": 18,
   "metadata": {},
   "outputs": [],
   "source": [
    "model = resnest.ResNeSt101(input_shape=(256, 256, 3), weights='imagenet')"
   ]
  },
  {
   "cell_type": "code",
   "execution_count": 10,
   "metadata": {},
   "outputs": [
    {
     "data": {
      "text/plain": [
       "(<tf.Tensor: shape=(), dtype=float32, numpy=0.0>,\n",
       " <tf.Tensor: shape=(), dtype=float32, numpy=255.0>)"
      ]
     },
     "execution_count": 10,
     "metadata": {},
     "output_type": "execute_result"
    }
   ],
   "source": [
    "tf.reduce_min(x), tf.reduce_max(x)"
   ]
  },
  {
   "cell_type": "code",
   "execution_count": 14,
   "metadata": {},
   "outputs": [
    {
     "name": "stderr",
     "output_type": "stream",
     "text": [
      "2022-06-12 12:04:04.123173: I tensorflow/compiler/xla/service/service.cc:170] XLA service 0x7f83280081d0 initialized for platform Host (this does not guarantee that XLA will be used). Devices:\n",
      "2022-06-12 12:04:04.123247: I tensorflow/compiler/xla/service/service.cc:178]   StreamExecutor device (0): Host, Default Version\n",
      "2022-06-12 12:04:05.841784: I tensorflow/compiler/jit/xla_compilation_cache.cc:478] Compiled cluster using XLA!  This line is logged at most once for the lifetime of the process.\n"
     ]
    }
   ],
   "source": [
    "outputs = model.predict(tf.image.resize(x_, (256, 256), method='bilinear'), verbose=0)"
   ]
  },
  {
   "cell_type": "code",
   "execution_count": 15,
   "metadata": {
    "scrolled": true
   },
   "outputs": [
    {
     "name": "stdout",
     "output_type": "stream",
     "text": [
      "           kite 71.17% | sulphur-crested_cockatoo 0.17% |   ruffed_grouse 0.17%\n",
      "     white_wolf 81.98% |     timber_wolf 3.73% |        red_wolf 0.29%\n",
      "         bulbul 84.13% |          toucan 0.35% |       bee_eater 0.23%\n",
      "         magpie 58.56% |    black_grouse 6.00% | European_gallinule 3.40%\n",
      "        obelisk 48.48% |        pedestal 25.62% |          beacon 5.25%\n",
      "golden_retriever 82.51% | Labrador_retriever 1.04% |  cocker_spaniel 0.81%\n",
      "       airliner 76.39% |            wing 3.48% |        warplane 0.23%\n",
      "      dalmatian 74.63% |          kuvasz 0.29% | German_short-haired_pointer 0.12%\n",
      "          tabby 33.82% |            chow 14.10% |       tiger_cat 5.52%\n",
      "     spider_web 56.50% |     barn_spider 14.03% |   garden_spider 7.63%\n",
      "   garter_snake 24.92% |      sidewinder 21.67% |    horned_viper 20.46%\n"
     ]
    }
   ],
   "source": [
    "predictions = tf.keras.applications.imagenet_utils.decode_predictions(outputs, top=3)\n",
    "print(\n",
    "    *(\n",
    "        ' | '.join(f'{name.rjust(15)} {conf:.2%}' for _id, name, conf in p)\n",
    "        for p in predictions\n",
    "    ),\n",
    "    sep='\\n'\n",
    ")"
   ]
  },
  {
   "cell_type": "code",
   "execution_count": 32,
   "metadata": {},
   "outputs": [],
   "source": [
    "model2 = resnest.ResNeSt101(\n",
    "    input_shape=(512, 512, 3),\n",
    "    weights='imagenet',\n",
    "    include_top=False,\n",
    "    pooling=False,\n",
    "    dilation=4,\n",
    ")"
   ]
  },
  {
   "cell_type": "code",
   "execution_count": 33,
   "metadata": {},
   "outputs": [
    {
     "data": {
      "text/plain": [
       "<KerasTensor: shape=(None, 64, 64, 2048) dtype=float32 (created by layer 'stage4_block3_shorcut_act')>"
      ]
     },
     "execution_count": 33,
     "metadata": {},
     "output_type": "execute_result"
    }
   ],
   "source": [
    "model2.output"
   ]
  },
  {
   "cell_type": "code",
   "execution_count": 34,
   "metadata": {},
   "outputs": [],
   "source": [
    "import numpy as np\n",
    "\n",
    "for wa, wb in zip(model.weights[:-2], model2.weights):\n",
    "    np.testing.assert_array_almost_equal(wa.numpy(), wb.numpy())"
   ]
  }
 ],
 "metadata": {
  "accelerator": "GPU",
  "colab": {
   "collapsed_sections": [],
   "name": "usage.ipynb",
   "provenance": []
  },
  "kernelspec": {
   "display_name": "Python 3 (ipykernel)",
   "language": "python",
   "name": "python3"
  },
  "language_info": {
   "codemirror_mode": {
    "name": "ipython",
    "version": 3
   },
   "file_extension": ".py",
   "mimetype": "text/x-python",
   "name": "python",
   "nbconvert_exporter": "python",
   "pygments_lexer": "ipython3",
   "version": "3.8.10"
  },
  "widgets": {
   "application/vnd.jupyter.widget-state+json": {
    "3914cdf644284fd98224d0716f63f206": {
     "model_module": "@jupyter-widgets/controls",
     "model_name": "HTMLModel",
     "state": {
      "_dom_classes": [],
      "_model_module": "@jupyter-widgets/controls",
      "_model_module_version": "1.5.0",
      "_model_name": "HTMLModel",
      "_view_count": null,
      "_view_module": "@jupyter-widgets/controls",
      "_view_module_version": "1.5.0",
      "_view_name": "HTMLView",
      "description": "",
      "description_tooltip": null,
      "layout": "IPY_MODEL_9be86dc9ed694d84b691b5507631a083",
      "placeholder": "​",
      "style": "IPY_MODEL_cd152a0c3ce045ceb3c0391304486abd",
      "value": " 185M/185M [00:02&lt;00:00, 73.8MB/s]"
     }
    },
    "43b6d8c059e343899db1070a74e745f5": {
     "model_module": "@jupyter-widgets/controls",
     "model_name": "ProgressStyleModel",
     "state": {
      "_model_module": "@jupyter-widgets/controls",
      "_model_module_version": "1.5.0",
      "_model_name": "ProgressStyleModel",
      "_view_count": null,
      "_view_module": "@jupyter-widgets/base",
      "_view_module_version": "1.2.0",
      "_view_name": "StyleView",
      "bar_color": null,
      "description_width": "initial"
     }
    },
    "85e0d96918444df3878cc0a03f74beb2": {
     "model_module": "@jupyter-widgets/controls",
     "model_name": "FloatProgressModel",
     "state": {
      "_dom_classes": [],
      "_model_module": "@jupyter-widgets/controls",
      "_model_module_version": "1.5.0",
      "_model_name": "FloatProgressModel",
      "_view_count": null,
      "_view_module": "@jupyter-widgets/controls",
      "_view_module_version": "1.5.0",
      "_view_name": "ProgressView",
      "bar_style": "success",
      "description": "100%",
      "description_tooltip": null,
      "layout": "IPY_MODEL_8c066c9507e2410c9ede383e75e2b8ea",
      "max": 193782911,
      "min": 0,
      "orientation": "horizontal",
      "style": "IPY_MODEL_43b6d8c059e343899db1070a74e745f5",
      "value": 193782911
     }
    },
    "8c066c9507e2410c9ede383e75e2b8ea": {
     "model_module": "@jupyter-widgets/base",
     "model_name": "LayoutModel",
     "state": {
      "_model_module": "@jupyter-widgets/base",
      "_model_module_version": "1.2.0",
      "_model_name": "LayoutModel",
      "_view_count": null,
      "_view_module": "@jupyter-widgets/base",
      "_view_module_version": "1.2.0",
      "_view_name": "LayoutView",
      "align_content": null,
      "align_items": null,
      "align_self": null,
      "border": null,
      "bottom": null,
      "display": null,
      "flex": null,
      "flex_flow": null,
      "grid_area": null,
      "grid_auto_columns": null,
      "grid_auto_flow": null,
      "grid_auto_rows": null,
      "grid_column": null,
      "grid_gap": null,
      "grid_row": null,
      "grid_template_areas": null,
      "grid_template_columns": null,
      "grid_template_rows": null,
      "height": null,
      "justify_content": null,
      "justify_items": null,
      "left": null,
      "margin": null,
      "max_height": null,
      "max_width": null,
      "min_height": null,
      "min_width": null,
      "object_fit": null,
      "object_position": null,
      "order": null,
      "overflow": null,
      "overflow_x": null,
      "overflow_y": null,
      "padding": null,
      "right": null,
      "top": null,
      "visibility": null,
      "width": null
     }
    },
    "9be86dc9ed694d84b691b5507631a083": {
     "model_module": "@jupyter-widgets/base",
     "model_name": "LayoutModel",
     "state": {
      "_model_module": "@jupyter-widgets/base",
      "_model_module_version": "1.2.0",
      "_model_name": "LayoutModel",
      "_view_count": null,
      "_view_module": "@jupyter-widgets/base",
      "_view_module_version": "1.2.0",
      "_view_name": "LayoutView",
      "align_content": null,
      "align_items": null,
      "align_self": null,
      "border": null,
      "bottom": null,
      "display": null,
      "flex": null,
      "flex_flow": null,
      "grid_area": null,
      "grid_auto_columns": null,
      "grid_auto_flow": null,
      "grid_auto_rows": null,
      "grid_column": null,
      "grid_gap": null,
      "grid_row": null,
      "grid_template_areas": null,
      "grid_template_columns": null,
      "grid_template_rows": null,
      "height": null,
      "justify_content": null,
      "justify_items": null,
      "left": null,
      "margin": null,
      "max_height": null,
      "max_width": null,
      "min_height": null,
      "min_width": null,
      "object_fit": null,
      "object_position": null,
      "order": null,
      "overflow": null,
      "overflow_x": null,
      "overflow_y": null,
      "padding": null,
      "right": null,
      "top": null,
      "visibility": null,
      "width": null
     }
    },
    "cd152a0c3ce045ceb3c0391304486abd": {
     "model_module": "@jupyter-widgets/controls",
     "model_name": "DescriptionStyleModel",
     "state": {
      "_model_module": "@jupyter-widgets/controls",
      "_model_module_version": "1.5.0",
      "_model_name": "DescriptionStyleModel",
      "_view_count": null,
      "_view_module": "@jupyter-widgets/base",
      "_view_module_version": "1.2.0",
      "_view_name": "StyleView",
      "description_width": ""
     }
    },
    "d3656d36be6d4477a5bfd941fed8a886": {
     "model_module": "@jupyter-widgets/base",
     "model_name": "LayoutModel",
     "state": {
      "_model_module": "@jupyter-widgets/base",
      "_model_module_version": "1.2.0",
      "_model_name": "LayoutModel",
      "_view_count": null,
      "_view_module": "@jupyter-widgets/base",
      "_view_module_version": "1.2.0",
      "_view_name": "LayoutView",
      "align_content": null,
      "align_items": null,
      "align_self": null,
      "border": null,
      "bottom": null,
      "display": null,
      "flex": null,
      "flex_flow": null,
      "grid_area": null,
      "grid_auto_columns": null,
      "grid_auto_flow": null,
      "grid_auto_rows": null,
      "grid_column": null,
      "grid_gap": null,
      "grid_row": null,
      "grid_template_areas": null,
      "grid_template_columns": null,
      "grid_template_rows": null,
      "height": null,
      "justify_content": null,
      "justify_items": null,
      "left": null,
      "margin": null,
      "max_height": null,
      "max_width": null,
      "min_height": null,
      "min_width": null,
      "object_fit": null,
      "object_position": null,
      "order": null,
      "overflow": null,
      "overflow_x": null,
      "overflow_y": null,
      "padding": null,
      "right": null,
      "top": null,
      "visibility": null,
      "width": null
     }
    },
    "f984345bb7124684a517b4231e5766ec": {
     "model_module": "@jupyter-widgets/controls",
     "model_name": "HBoxModel",
     "state": {
      "_dom_classes": [],
      "_model_module": "@jupyter-widgets/controls",
      "_model_module_version": "1.5.0",
      "_model_name": "HBoxModel",
      "_view_count": null,
      "_view_module": "@jupyter-widgets/controls",
      "_view_module_version": "1.5.0",
      "_view_name": "HBoxView",
      "box_style": "",
      "children": [
       "IPY_MODEL_85e0d96918444df3878cc0a03f74beb2",
       "IPY_MODEL_3914cdf644284fd98224d0716f63f206"
      ],
      "layout": "IPY_MODEL_d3656d36be6d4477a5bfd941fed8a886"
     }
    }
   }
  }
 },
 "nbformat": 4,
 "nbformat_minor": 4
}
